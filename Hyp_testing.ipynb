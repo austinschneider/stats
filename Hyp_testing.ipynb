{
 "cells": [
  {
   "cell_type": "markdown",
   "metadata": {},
   "source": [
    "# Hypothesis Testing\n",
    "\n",
    "In this section we will talk about the process of using data to test a hypothesis. \n",
    "\n",
    "We can roughly break down the process of hypothesis testing into the following steps:\n",
    "\n",
    "1. State relevant null and alternative hypotheses\n",
    "2. State the test statistic\n",
    "3. Derive the distribution of the test statistic under the null hypothesis\n",
    "4. Select significance level ($\\alpha$) at which the null hypothesis will be rejected\n",
    "5. Compute an observed test statistic from the data\n",
    "6. Calculate a p-value and decide whether to reject the appropriate hypothesis\n",
    "\n",
    "Let's go through these steps one by one, and look at what each of these steps looks like for a simple coin flip example."
   ]
  },
  {
   "cell_type": "markdown",
   "metadata": {},
   "source": [
    "## 1. State relevant null and alternative hypotheses\n",
    "When constructing an analysis, we should be careful to state the _null_ and _alternative_ hypotheses. Typically, the _null hypothesis_ ($H_o$) refers to a statement or default position that there is no relationship between two phenomena, that there is no signal, or that our current models describe the data well. The _alternative_ ($H_a$) hypothesis usually describes the opposite: that there is a relationship between two phenomena, that there is a signal, or that our models to NOT describe the data well. Here are some example pairs of hypotheses you might encounter in IceCube:\n",
    "\n",
    "- $H_o$: Neutrino event arrival directions are not correlated with the positions of blazars\n",
    "\n",
    "- $H_a$: Neutrino event arrival directions are correlated with the positions of blazars\n",
    "\n",
    "\n",
    "\n",
    "- $H_o$: A 3-flavor oscillation model describes our data well\n",
    "\n",
    "- $H_a$: The data is inconsistent with the 3-flavor model\n",
    "\n",
    "\n",
    "\n",
    "- $H_o$: The prompt component of the atmospheric neutrino spectrum is zero\n",
    "\n",
    "- $H_a$: The prompt component of the atmospheric neutrino spectrum is nonzero\n",
    "\n",
    "\n",
    "For this talk, let's consider a simple example: We want to know if a coin flip is \"fair\" in the sense that the $P(heads)=P(tails)=1/2$. In this case, we can set up our hypotheses like so:\n",
    "\n",
    "- $H_o$: The coin is fair, $P(heads)=1/2$\n",
    "\n",
    "- $H_a$: The coin is not fair, $P(heads) < 1/2$\n",
    "\n",
    "This is a _one tailed_ hypothesis tests, where we are only interested in the case that $P(heads) < 1/2$. If $P(heads) > 1/2$, then we won't be able to reject the null hypothesis. You could also set up your hypothesis to be _two tailed_:\n",
    "\n",
    "- $H_o$: The coin is fair, $P(heads)=1/2$\n",
    "\n",
    "- $H_a$: The coin is not fair, $P(heads) \\neq 1/2$\n",
    "\n",
    "...where this would allow you to reject the null hypothesis both if $P(heads) < 1/2$ or if $P(heads) > 1/2$. For now let's use the one tailed test, and we'll come back and look at this two tailed test later. "
   ]
  },
  {
   "cell_type": "markdown",
   "metadata": {},
   "source": [
    "## 2. State the test statistic\n",
    "\n",
    "A _test statistic_ is a quantity derived from the sample, intended to be a numerical summary of a dataset that reduces the data to one value that can be used for hypothesis testing. In general, the test statistic is selected in such a way as to quantify, within observed data, behaviors that would distinguish the null and alternative hypotheses. These are very similar to estimators, and we can oftentimes use estimators as test statistics. \n",
    "\n",
    "An important property of the test statistic is that its sampling distribution under the null hypothesis must be calculable either exactly or approximately. There are many types of test statistics that you can use, and what the exact form of the test statistic is will usually be determined by your analysis. Here are some examples of test statistics used in IceCube:\n",
    "\n",
    "- $\\chi^2 = \\sum_{i \\in {bins}} \\frac{(n_i^{\\nu+\\mu_{atm}} - n_i^{data})^2} {(\\sigma_i^{data})^2+(\\sigma_{\\nu+\\mu_{atm,i}})^2}$ (Chi squared TS used for oscillation analyses, usually with an additional systematic term)\n",
    "\n",
    "- $TS = -2 \\log(\\frac{\\mathcal{L}(n_s=0)}{\\mathcal{L}(\\hat{n}_s)})$ (Likelihood ratio TS used in point source analyses)\n",
    "\n",
    "The *likelihood ratio* is a very powerful test statistic. Given two hypotheses $H_o$ and $H_a(a)$ where $H_o = H_a(\\tilde{a})$ (they are _nested_ models), then the Neyman-Pearson lemma states that the likelihood ratio test has the strongest statistical power (i.e. correctly reject $H_o$ when $H_1$ is true). This is the case for many point source searches, where the null hypothesis (\"There are zero signal events, $n_s$ = 0) is nested in the alternative hypothesis (\"There are a nonzero number of signal events, $n_s$ > 0). \n",
    "\n",
    "You'll hear more about the likelihood ratio test later this week in the point source example session. For now, let's go back to our simple example of a coin flip. For our coin flip example, let's use just use the fraction of heads obtained as our test statistic:\n",
    "\n",
    "- $TS = (N_{heads})/(N_{flips})$\n",
    "\n",
    "This may not be the _best_ test statistic that we could possibly use, but it does satisfy the property of the distribution being calculable under the null hypothesis. This does have an analytic result (the binomial distribution), but let's practice generating a distribution from monte carlo."
   ]
  },
  {
   "cell_type": "code",
   "execution_count": 1,
   "metadata": {
    "collapsed": true
   },
   "outputs": [],
   "source": [
    "import numpy as np\n",
    "%matplotlib inline\n",
    "\n",
    "\n",
    "def flip_coin(pheads=0.5):\n",
    "    #This function flips a single coin, returning heads with probability pheads, and tails with probability 1-pheads\n",
    "    flipfloat = np.random.uniform(0,1)\n",
    "    if flipfloat <= pheads:\n",
    "        flipresult = 'H'\n",
    "    else:\n",
    "        flipresult = 'T'\n",
    "    return flipresult\n",
    "\n",
    "def do_one_trial(pheads=0.5, Ncoins=20):\n",
    "    #This function performs 1 trial of flipping many coins (set by Ncoins). \n",
    "    #You can adjust the value of pheads for these trials with the pheads arg\n",
    "    trialdata = []\n",
    "    for i in range(0,Ncoins):\n",
    "        trialdata.append(flip_coin(pheads=pheads))\n",
    "    heads = [trial for trial in trialdata if trial=='H']\n",
    "    fracheads = float(len(heads))/Ncoins\n",
    "    return fracheads\n",
    "\n",
    "def do_many_trials(pheads=0.5, Ntrials=1000):\n",
    "    #This does many trials, with each trial flipping 1000 coins.\n",
    "    #we use this (with pheads=0.5) to calculate our null hypothesis test statistic distribution\n",
    "    resultarr = []\n",
    "    for i in range(0, Ntrials):\n",
    "        resultarr.append(do_one_trial(pheads=0.5, Ncoins=20))\n",
    "    return resultarr\n",
    "\n",
    "#fair_results is an array of the results of 1000 trials,\n",
    "#with each element identifying the fraction of heads obtained in that trial\n",
    "fair_results = do_many_trials(pheads=0.5, Ntrials=1000)\n"
   ]
  },
  {
   "cell_type": "code",
   "execution_count": 10,
   "metadata": {},
   "outputs": [
    {
     "name": "stdout",
     "output_type": "stream",
     "text": [
      "[0.         0.11111111 0.22222222 0.33333333 0.44444444 0.55555556\n",
      " 0.66666667 0.77777778 0.88888889 1.        ]\n"
     ]
    },
    {
     "data": {
      "image/png": "[encoded data removed]",
      "text/plain": [
       "<Figure size 432x288 with 1 Axes>"
      ]
     },
     "metadata": {},
     "output_type": "display_data"
    }
   ],
   "source": [
    "import matplotlib.pyplot as plt\n",
    "\n",
    "#Now let's plot the PDF\n",
    "hist, bins = np.histogram(fair_results, bins = np.linspace(0,1,10), density=True)\n",
    "print(bins)\n",
    "\n",
    "#remember to set density=True for a PDF (integral must be 1)!\n",
    "#np.histogram returns bin edges :-/\n",
    "hist = np.concatenate([hist,[0.]])\n",
    "plt.plot(bins, hist, drawstyle='steps-post')\n",
    "plt.xlabel('Fraction of Heads (TS)')\n",
    "plt.ylabel('PDF of null distribution')\n",
    "plt.xlim(0,1)\n",
    "plt.show()"
   ]
  },
  {
   "cell_type": "markdown",
   "metadata": {},
   "source": [
    "Great! So we've shown that we can use the fraction of heads in 1000 coin flips as a test statistic, since we've calculated the PDF under the null hypothesis. "
   ]
  },
  {
   "cell_type": "markdown",
   "metadata": {},
   "source": [
    "## 4. Select a significance level at which the null hypothesis will be rejected\n",
    "\n",
    "### Type I and Type II Errors\n",
    "Since in testing our hypothesis, we have two options for our result (accept/reject the null hypothesis), and there are two options for the \"actual\" state of our null hypothesis (either it is true or it isn't), there are four possible outcomes describing whether we were correct or not. \n",
    "\n",
    "|*           |$H_o$ rejected                 |Accept (Fail to reject) $H_o$       |\n",
    "|------------|-------------------------------|------------------------------------|\n",
    "|$H_o$ False |Correct                        |Type II error (false negative)      |\n",
    "|$H_o$ True  |Type I error (false positive)  |Correct                             |\n",
    "\n",
    "If you reject a true null hypothesis, then this is a type II error. If you accept a false null hypothesis, then this is a type I error. \"Type I\" and \"type II\" are needlessly confusing names, so let's instead refer to these with the more intuitive names \"false positive\" and \"false negative\". \n",
    "\n",
    "For our coin flip example, if we reject the null hypothesis and state that the coin is unfair, but the coin was actually fair, then we got a _false positive_. \n",
    "\n",
    "If we were to accept the null hypthesis and state that the coin was fair, but the coin was actually unfair, then we got a _false negative_. \n",
    "\n",
    "Both types of errors are bound to happen sometimes, but we're typically more concerned with false positives: We don't want to make any claims of discovery when in fact it was simply a background fluctuation. We can control the rate at which this happens with the _significance_ of the test ($\\alpha$). The _significance_ refers to the probability of obtaining a false positive. \n",
    "\n",
    "Given a hypothesis test with some test statistic (where we can calculate the distribution of this test statistic under the null hypothesis, see above!), we can divide the range of our test statistic into the _acceptance region_, and the _rejection region_. If our observed test statistic falls in the _acceptance region_, we will accept the null hypothesis to be true. If our observed test statistic falls into the _rejection region_, we will reject the null hypothesis. \n",
    "\n",
    "The probability of a false positive is then simply the integral of our null hypothesis test statistic distribution over the rejection region. This is the _significance_ of the test. In principle, we can set the significance of our test to be whatever we want, simply by changing the acceptance and rejection regions. In practice, we typically want to set a high bar for announcing a result (this corresponds to a _low_ significance). In particle physics, the threshold for rejecting the null hypothesis is typically set such that the significance is $2.87 \\times 10 ^{-7}$ (the _one-sided five sigma threshold_). In other disciplines, the convention is different, with social scientists and biologists typically rejecting the null hypothesis at the $.01$ or $.05$ significance level. \n",
    "\n",
    "You might sometimes hear significance refered to in units of \"sigma\" (e.g. \"$5 \\sigma$\" or \"$3 \\sigma$\"). This can be obtained by the process shown in the figure below, by mapping the significance to a normal distribution. \n",
    "\n",
    "<img src=\"fig1.png\" style=\"width: 500px;\">\n",
    "\n",
    "For our coin flip example, let's pretend to be social scientists and set our significance to be 0.1. We will be able to reject our null hypothesis at the 10% significance level. "
   ]
  },
  {
   "cell_type": "code",
   "execution_count": 11,
   "metadata": {},
   "outputs": [
    {
     "data": {
      "image/png": "[encoded data removed]",
      "text/plain": [
       "<Figure size 432x288 with 1 Axes>"
      ]
     },
     "metadata": {},
     "output_type": "display_data"
    }
   ],
   "source": [
    "def get_thresh(bgdata, sig=.1):\n",
    "    #figure out the .1 significance threshold on our TS\n",
    "    bgdata = sorted(bgdata)\n",
    "    bgdata = np.array(bgdata)\n",
    "    for val in bgdata:\n",
    "        integral = float(len(bgdata[bgdata<val]))/len(bgdata)\n",
    "        if integral > sig:\n",
    "            lowerbound = val\n",
    "            break\n",
    "    return lowerbound\n",
    "\n",
    "lowerbound = get_thresh(fair_results, sig=0.1)\n",
    "#replot our pdf\n",
    "plt.plot(bins, hist, drawstyle='steps-post')\n",
    "plt.xlabel('Fraction of Heads (TS)')\n",
    "plt.ylabel('PDF of null distribution')\n",
    "\n",
    "#Plot the 5% significance thresholds as vertical lines.\n",
    "#This defines our acceptance region\n",
    "#If our observed TS value isn't above the vertical line, we can reject H0 at the 5% significance level. \n",
    "plt.axvline(lowerbound, color='steelblue')\n",
    "plt.xlim(0,1)\n",
    "\n",
    "plt.show()"
   ]
  },
  {
   "cell_type": "markdown",
   "metadata": {},
   "source": [
    "## 5. Compute the observed TS from data\n",
    "\n",
    "Now that we've defined our set of hypotheses, a test statistic, and a significance level at which we plan to be able to reject the null hypothesis, let's actually compute a TS for some observed data. "
   ]
  },
  {
   "cell_type": "code",
   "execution_count": 13,
   "metadata": {},
   "outputs": [
    {
     "name": "stdout",
     "output_type": "stream",
     "text": [
      "('observed data array:', array(['H', 'T', 'T', 'T', 'T', 'T', 'T', 'T', 'H', 'T', 'H', 'H', 'H',\n",
      "       'T', 'T', 'T', 'T', 'T', 'H', 'T'], dtype='|S1'))\n",
      "('observed test statistic:', 0.3)\n"
     ]
    }
   ],
   "source": [
    "#use our functions to simulate some data\n",
    "obsdata = []\n",
    "for i in range(0,20):\n",
    "    oneflip = flip_coin(pheads=.5)\n",
    "    obsdata.append(oneflip)\n",
    "    \n",
    "#...or actually flip a coin yourself! I used a biased coin for this data\n",
    "obsdata = ['H', 'T', 'T', 'T', 'T', 'T', 'T', 'T', 'H', 'T', 'H', 'H', 'H', 'T', 'T', 'T', 'T', 'T', 'H', 'T']\n",
    "obsdata = np.array(obsdata)\n",
    "fracheads = len(obsdata[obsdata=='H'])/float(len(obsdata))\n",
    "print(\"observed data array:\", obsdata)\n",
    "print(\"observed test statistic:\", fracheads)"
   ]
  },
  {
   "cell_type": "markdown",
   "metadata": {},
   "source": [
    "## 6. Decide whether to accept/reject the null hypothesis\n",
    "\n",
    "Let's see where this observed test statistic lies relative to the bounds we set up in step 4:"
   ]
  },
  {
   "cell_type": "code",
   "execution_count": 14,
   "metadata": {},
   "outputs": [
    {
     "data": {
      "image/png": "[encoded data removed]",
      "text/plain": [
       "<Figure size 432x288 with 1 Axes>"
      ]
     },
     "metadata": {},
     "output_type": "display_data"
    }
   ],
   "source": [
    "#replot our pdf\n",
    "plt.plot(bins, hist, drawstyle='steps-post')\n",
    "plt.xlabel('Fraction of Heads (TS)')\n",
    "plt.ylabel('PDF of null distribution')\n",
    "\n",
    "#Plot the 5% significance thresholds as vertical lines.\n",
    "#If our observed TS value isn't between these vertical lines, we can reject H0 at the 5% significance level. \n",
    "plt.axvline(lowerbound, color='steelblue')\n",
    "plt.axvline(fracheads, color='orange', label='Observed TS')\n",
    "plt.xlim(0, 1)\n",
    "plt.legend(loc=0)\n",
    "\n",
    "plt.show()"
   ]
  },
  {
   "cell_type": "markdown",
   "metadata": {},
   "source": [
    "Since our observed TS was not within our acceptance region, we can reject the null hypothesis at the 5% level. \n",
    "(If you got that the TS was in the acceptance region, then you would instead fail to reject the null hypothesis)"
   ]
  },
  {
   "cell_type": "markdown",
   "metadata": {},
   "source": [
    "### p-values\n",
    "\n",
    "An alternative way of doing this construction involves the calculation of a _p-value_. A _p-value_ is the probability, under the null hypothesis, of obtaining a test statistic at least as extreme as the one we have observed from data. If our p-value is smaller than our significance, then we can reject the null hypothesis.  The p-value can be calculated by simply integrating our null hypothesis test statistic distribution. For the one-tailed case (above), this is: \n",
    "\n",
    "p-value = $\\int_0^{TS_{obs}} PDF_{H_o}$"
   ]
  },
  {
   "cell_type": "code",
   "execution_count": 15,
   "metadata": {},
   "outputs": [
    {
     "name": "stdout",
     "output_type": "stream",
     "text": [
      "('one-tailed p-value:', 0.024)\n"
     ]
    }
   ],
   "source": [
    "def get_p_value(obsval, bgdata):\n",
    "    #calculate a 1 sided p-value for an observed value and a background distribution\n",
    "    bgdata = np.array(bgdata)\n",
    "    lowertail = float(len(bgdata[bgdata<obsval]))/len(bgdata)\n",
    "    return lowertail\n",
    "    \n",
    "print(\"one-tailed p-value:\", get_p_value(fracheads, fair_results))"
   ]
  },
  {
   "cell_type": "markdown",
   "metadata": {},
   "source": [
    "Since the p-value I got is less than our pre-determined significance, I will reject the null hypothesis ($P(heads)=1/2$) in favor of the alternative hypothesis ($P(heads)<1/2$)"
   ]
  },
  {
   "cell_type": "markdown",
   "metadata": {},
   "source": [
    "## Addendum: 1 vs. 2 tailed tests\n",
    "\n",
    "In the above coin flip example, we used a _one-tailed_ test because we originally set up our alternative hypothesis to be one-tailed: We're only testing to see if $P(heads)<1/2$, if $P(heads)>1/2$, we still can't reject the null hypothesis. \n",
    "\n",
    "We could have instead set up our hypothesis to be _two-tailed_:\n",
    "\n",
    "- $H_o$: The coin is fair, $P(heads)=1/2$\n",
    "\n",
    "- $H_a$: The coin is not fair, $P(heads) \\neq 1/2$\n",
    "\n",
    "Where now if either $P(heads) < 1/2$ OR $P(heads) > 1/2$, we will reject the null hypothesis. The procedure is similar to that of above, but we should be careful when setting up our acceptance and rejection regions. Since our hypothesis is now two tailed, our rejection region is _also_ two tailed: If the test statistic is either below the lower bound, or above the upper bound, we can reject the null hypothesis. "
   ]
  },
  {
   "cell_type": "code",
   "execution_count": 16,
   "metadata": {},
   "outputs": [
    {
     "data": {
      "image/png": "[encoded data removed]",
      "text/plain": [
       "<Figure size 432x288 with 1 Axes>"
      ]
     },
     "metadata": {},
     "output_type": "display_data"
    }
   ],
   "source": [
    "def get_thresh_2tail(bgdata, sig=.1):\n",
    "    #figure out the .05 significance threshold on our TS\n",
    "    bgdata = sorted(bgdata)\n",
    "    bgdata = np.array(bgdata)\n",
    "    #make sure you adjust for the fact that you are now doing a two-tailed test!\n",
    "    #half the significance goes into each tail\n",
    "    twotailedsig = sig/2.\n",
    "    for val in bgdata:\n",
    "        integral = float(len(bgdata[bgdata<val]))/len(bgdata)\n",
    "        if integral > twotailedsig:\n",
    "            lowerbound = val\n",
    "            break\n",
    "    for val in bgdata[::-1]:\n",
    "        integral = float(len(bgdata[bgdata>val]))/len(bgdata)\n",
    "        if integral > twotailedsig:\n",
    "            upperbound = val\n",
    "            break\n",
    "    return lowerbound, upperbound\n",
    "\n",
    "lowerbound_2t, upperbound_2t = get_thresh_2tail(fair_results, sig=0.1)\n",
    "#replot our pdf\n",
    "plt.plot(bins, hist, drawstyle='steps-post')\n",
    "plt.xlabel('Fraction of Heads (TS)')\n",
    "plt.ylabel('PDF of null distribution')\n",
    "\n",
    "#Plot the 5% significance thresholds as vertical lines.\n",
    "#If our observed TS value isn't between these vertical lines, we can reject H0 at the 5% significance level. \n",
    "plt.axvline(lowerbound_2t, color='steelblue')\n",
    "plt.axvline(upperbound_2t, color='steelblue')\n",
    "plt.axvline(fracheads, color='orange', label='Observed TS')\n",
    "plt.xlim(0, 1)\n",
    "plt.legend(loc=0)\n",
    "\n",
    "plt.show()"
   ]
  },
  {
   "cell_type": "markdown",
   "metadata": {},
   "source": [
    "So even if we had done the two-tailed test, we still would have concluded that the coin was unfair. Also, we should be careful to take both tails into account when calculating a p-value:"
   ]
  },
  {
   "cell_type": "code",
   "execution_count": 17,
   "metadata": {},
   "outputs": [
    {
     "name": "stdout",
     "output_type": "stream",
     "text": [
      "('two-tailed p-value:', 0.047)\n"
     ]
    }
   ],
   "source": [
    "def get_p_value_2t(obsval, bgdata):\n",
    "    #calculate a 2 sided p-value for an observed value and a background distribution\n",
    "    bgdata = np.array(bgdata)\n",
    "    upperval = np.median(bgdata)+abs(np.median(bgdata)-obsval)\n",
    "    lowertail = float(len(bgdata[bgdata<obsval]))/len(bgdata)\n",
    "    uppertail = float(len(bgdata[bgdata>upperval]))/len(bgdata)\n",
    "    return lowertail + uppertail\n",
    "    \n",
    "print(\"two-tailed p-value:\", get_p_value_2t(fracheads, fair_results))"
   ]
  },
  {
   "cell_type": "markdown",
   "metadata": {},
   "source": [
    "Note that our p-value for testing the two-tailed hypothesis is different from the one-tailed hypothesis. It's always important to keep track of the hypothesis that the p-value corresponds to. If we _only_ wanted to test the hypothesis that coin was biased to produce tails more often, then we should use the one-tailed test. If we instead were interested in either the case that the coin is biased in the favor of tails _or_ in favor of heads, then we should use the two-tailed test. "
   ]
  },
  {
   "cell_type": "markdown",
   "metadata": {},
   "source": [
    "## Trial Factors"
   ]
  },
  {
   "cell_type": "markdown",
   "metadata": {},
   "source": [
    "Each time you obtain the answer of an analysis from real data, you have done one _experimental trial_. It is common to perform multiple trials when working with a specific analysis technique.\n",
    "\n",
    "**Example**: In the neutrino sources group, we might test the probability that _one_ location is consistent with background expectation. If we were to apply this framework to a list of 30 source candidate locations, then this would be 30 trials.\n",
    "\n",
    "**Example**: Repeating an analysis with new cuts. We might count the number of neutrinos with E > 1 TeV in 1 year, then count the number of neutrinos with E > 10 TeV in 1 year. This would be 2 trials. \n",
    "\n",
    "**Example**: Repeating with different signal hypotheses. You might look for emission from blazars using both the hypothesis of steady emission and a flare hypothesis (2 trials)\n",
    "\n",
    "Trials can be both independent, or correlated:\n",
    "\n",
    "**Independent**: Search for a new source/signal in 1 year of data, repeat the search in the next year of data (separately). This would be 2 independent trials\n",
    "\n",
    "**Correlated**: Search for a new source/signal in 1 year of data, repeat the search with 2 years of data, including the first year. This would be 2 trials, but they would be correlated.\n",
    "\n",
    "Let's go back to our coin flip example to see why trials matter."
   ]
  },
  {
   "cell_type": "code",
   "execution_count": 19,
   "metadata": {},
   "outputs": [
    {
     "name": "stdout",
     "output_type": "stream",
     "text": [
      "('TS', '|', 'p-value (pre-trial)')\n",
      "(0.45, '|', 0.26)\n",
      "(0.55, '|', 0.596)\n",
      "(0.4, '|', 0.135)\n",
      "(0.45, '|', 0.26)\n",
      "(0.4, '|', 0.135)\n",
      "(0.4, '|', 0.135)\n",
      "(0.55, '|', 0.596)\n",
      "(0.45, '|', 0.26)\n",
      "(0.4, '|', 0.135)\n",
      "(0.5, '|', 0.406)\n",
      "(0.45, '|', 0.26)\n",
      "(0.4, '|', 0.135)\n",
      "(0.35, '|', 0.065)\n",
      "(0.6, '|', 0.751)\n",
      "(0.8, '|', 0.993)\n",
      "(0.45, '|', 0.26)\n",
      "(0.65, '|', 0.873)\n",
      "(0.6, '|', 0.751)\n",
      "(0.55, '|', 0.596)\n",
      "(0.3, '|', 0.024)\n",
      "(0.4, '|', 0.135)\n",
      "(0.3, '|', 0.024)\n",
      "(0.5, '|', 0.406)\n",
      "(0.6, '|', 0.751)\n",
      "(0.5, '|', 0.406)\n",
      "(0.5, '|', 0.406)\n",
      "(0.45, '|', 0.26)\n",
      "(0.45, '|', 0.26)\n",
      "(0.5, '|', 0.406)\n",
      "(0.4, '|', 0.135)\n"
     ]
    }
   ],
   "source": [
    "#Simulate 30 trials, or ask the class to do it experimentally\n",
    "#We'll go back to using a 1-tailed test here. \n",
    "print(\"TS\", \"|\" ,\"p-value (pre-trial)\")\n",
    "N_trials_pvals = []\n",
    "Ntrials = 30\n",
    "for i in range(0,Ntrials):\n",
    "    one_trial = do_one_trial(pheads=0.5, Ncoins=20)\n",
    "    print(one_trial, \"|\", get_p_value(one_trial, fair_results))\n",
    "    N_trials_pvals.append(get_p_value(one_trial, fair_results))"
   ]
  },
  {
   "cell_type": "markdown",
   "metadata": {},
   "source": [
    "If we simulate enough trials, we'll _eventually_ obtain a p-value < 0.1, and will thus _eventually_ reject the null hypothesis, even if the null hypothesis is true. This is bad. We adjust for this with **trial factors**. Let's call the probability of seeing a result in a single trial is the \"pre-trial probability\" ($P_{pre}$), and the probability of seeing a result after many trials the \"post-trial probability\" ($P_{post}$). For N independent trials, $P_{post}$ can be written as:\n",
    "\n",
    "$P_{post} = 1-(1-P_{pre})^N$ (The Sidak Correction)\n",
    "\n",
    "Let's look at how this affects our results above."
   ]
  },
  {
   "cell_type": "code",
   "execution_count": 20,
   "metadata": {},
   "outputs": [
    {
     "name": "stdout",
     "output_type": "stream",
     "text": [
      "('best pre-trial p-value:', 0.024)\n"
     ]
    }
   ],
   "source": [
    "#Find our best p-value from 30 trials. \n",
    "bestp = min(N_trials_pvals)\n",
    "print(\"best pre-trial p-value:\", bestp)"
   ]
  },
  {
   "cell_type": "code",
   "execution_count": 21,
   "metadata": {},
   "outputs": [
    {
     "name": "stdout",
     "output_type": "stream",
     "text": [
      "('Trial corrected p-value:', 0.5175030970939865)\n"
     ]
    }
   ],
   "source": [
    "def trialcorrect(pvalue, Ntrials):\n",
    "    return 1.-(1.-pvalue)**Ntrials\n",
    "\n",
    "print(\"Trial corrected p-value:\", trialcorrect(bestp, Ntrials))"
   ]
  },
  {
   "cell_type": "markdown",
   "metadata": {},
   "source": [
    "The fact that we did 30 trials had a pretty significant effect here. After trial correcting, our p-value isn't less than .1 anymore, so we can't reject the null hypothesis. This makes sense, since our trials were all generated from a fair coin. \n",
    "\n",
    "Suppose that one of our trials had turned up a p-value of $2.8 \\times 10^{-7}$ (so a $5\\sigma$ result). How might our 30 trials have affected this?"
   ]
  },
  {
   "cell_type": "code",
   "execution_count": 22,
   "metadata": {},
   "outputs": [
    {
     "name": "stdout",
     "output_type": "stream",
     "text": [
      "('Trial corrected 5 sigma result:', 8.399965894967387e-06)\n",
      "('Trial corrected significance:', 4.303660134506316)\n"
     ]
    }
   ],
   "source": [
    "correctedp = trialcorrect(2.8*10**-7, Ntrials)\n",
    "\n",
    "#What's the new significance?\n",
    "import scipy.stats as stats\n",
    "newsig = stats.norm.ppf(1-correctedp)\n",
    "\n",
    "print(\"Trial corrected 5 sigma result:\", correctedp)\n",
    "print(\"Trial corrected significance:\", newsig)"
   ]
  },
  {
   "cell_type": "markdown",
   "metadata": {},
   "source": [
    "So our 30 independent trials bumped our result down from $5\\sigma$ to $4.3\\sigma$. This is still a pretty significant result! The probability of a false positive is $8.3\\times10^{-6}$. This is why we choose the 5-sigma threshold in particle physics. If a result is $>5\\sigma$, then we can be pretty sure we're properly rejecting the null hypothesis, even with order ~10 trials. \n",
    "\n",
    "In practice, we oftentimes don't have fully independent trials. A major challenge for a lot of a analyses is figuring out how to handle correlated trials in an efficient way. This is a difficult problem, and is often analysis-dependent, so we won't discuss it here. "
   ]
  },
  {
   "cell_type": "code",
   "execution_count": null,
   "metadata": {
    "collapsed": true
   },
   "outputs": [],
   "source": []
  }
 ],
 "metadata": {
  "kernelspec": {
   "display_name": "Python 2",
   "language": "python",
   "name": "python2"
  },
  "language_info": {
   "codemirror_mode": {
    "name": "ipython",
    "version": 2
   },
   "file_extension": ".py",
   "mimetype": "text/x-python",
   "name": "python",
   "nbconvert_exporter": "python",
   "pygments_lexer": "ipython2",
   "version": "2.7.10"
  }
 },
 "nbformat": 4,
 "nbformat_minor": 2
}
